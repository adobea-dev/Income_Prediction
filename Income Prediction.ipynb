{
 "cells": [
  {
   "cell_type": "markdown",
   "id": "b21cb8b8-2d3e-4144-81c6-a02aacf51ede",
   "metadata": {},
   "source": [
    "Creating SparkSession"
   ]
  },
  {
   "cell_type": "code",
   "execution_count": 1,
   "id": "7eb5f737-d833-4cb5-8a1a-c224edb20193",
   "metadata": {},
   "outputs": [],
   "source": [
    "import pandas as pd\n",
    "from pyspark.sql import SparkSession\n",
    "spark = SparkSession.builder.appName(\"Income Prediction\").config(\"spark.memory.offHeap.enabled\", \"true\").config(\"spark.memory.offHeap.size\", \"10g\").getOrCreate()"
   ]
  },
  {
   "cell_type": "markdown",
   "id": "ac959623-f4bc-4dbc-aadd-1d2d41de8c4e",
   "metadata": {},
   "source": [
    "Reading my data and putting it into a dataframe"
   ]
  },
  {
   "cell_type": "code",
   "execution_count": 2,
   "id": "6486c786-7061-41c6-aece-e421994dd70f",
   "metadata": {},
   "outputs": [
    {
     "name": "stdout",
     "output_type": "stream",
     "text": [
      "+---+----------+------+-------------+-------------+-------------------+------------------+------------+------+-------+------------+-------------+--------------+--------------+-------+\n",
      "|Age|workclass |fnlwgt|education    |education-num|marital-status     |occupation        |relationship|race  |sex    |capital-gain|capital-loss |hours-per-week|native-country|label  |\n",
      "+---+----------+------+-------------+-------------+-------------------+------------------+------------+------+-------+------------+-------------+--------------+--------------+-------+\n",
      "|25 | Private  |226802| 11th        |7            | Never-married     | Machine-op-inspct| Own-child  | Black| Male  |0           |0            |40            | United-States| <=50K.|\n",
      "|38 | Private  |89814 | HS-grad     |9            | Married-civ-spouse| Farming-fishing  | Husband    | White| Male  |0           |0            |50            | United-States| <=50K.|\n",
      "|28 | Local-gov|336951| Assoc-acdm  |12           | Married-civ-spouse| Protective-serv  | Husband    | White| Male  |0           |0            |40            | United-States| >50K. |\n",
      "|44 | Private  |160323| Some-college|10           | Married-civ-spouse| Machine-op-inspct| Husband    | Black| Male  |7688        |0            |40            | United-States| >50K. |\n",
      "|18 | ?        |103497| Some-college|10           | Never-married     | ?                | Own-child  | White| Female|0           |0            |30            | United-States| <=50K.|\n",
      "+---+----------+------+-------------+-------------+-------------------+------------------+------------+------+-------+------------+-------------+--------------+--------------+-------+\n",
      "only showing top 5 rows\n",
      "\n",
      "root\n",
      " |-- Age: integer (nullable = true)\n",
      " |-- workclass: string (nullable = true)\n",
      " |-- fnlwgt: integer (nullable = true)\n",
      " |-- education: string (nullable = true)\n",
      " |-- education-num: integer (nullable = true)\n",
      " |-- marital-status: string (nullable = true)\n",
      " |-- occupation: string (nullable = true)\n",
      " |-- relationship: string (nullable = true)\n",
      " |-- race: string (nullable = true)\n",
      " |-- sex: string (nullable = true)\n",
      " |-- capital-gain: integer (nullable = true)\n",
      " |-- capital-loss : integer (nullable = true)\n",
      " |-- hours-per-week: integer (nullable = true)\n",
      " |-- native-country: string (nullable = true)\n",
      " |-- label: string (nullable = true)\n",
      "\n"
     ]
    }
   ],
   "source": [
    "df1 = spark.read.csv(\n",
    "    \"adult test.csv\",\n",
    "    header=True,\n",
    "    inferSchema=True,\n",
    "    sep=\",\",\n",
    "    quote=\"\\\"\",\n",
    "    escape=\"\\\"\"\n",
    ")\n",
    "df1.show(5, truncate=False)\n",
    "df1.printSchema()"
   ]
  },
  {
   "cell_type": "code",
   "execution_count": 3,
   "id": "5f458f58-641e-433e-ae1d-29625766f719",
   "metadata": {},
   "outputs": [],
   "source": [
    "#from pyspark.sql.types import StructType, StructField, IntegerType, StringType\n",
    "\n",
    "#schema = StructType([\n",
    " #   StructField(\"age\", IntegerType(), True),\n",
    " #   StructField(\"workclass\", StringType(), True),\n",
    " #   StructField(\"fnlwgt\", IntegerType(), True),\n",
    " #   StructField(\"education\", StringType(), True),\n",
    " #   StructField(\"education_num\", IntegerType(), True),\n",
    " #   StructField(\"marital_status\", StringType(), True),\n",
    " #   StructField(\"occupation\", StringType(), True),\n",
    " #   StructField(\"relationship\", StringType(), True),\n",
    " #   StructField(\"race\", StringType(), True),\n",
    " #   StructField(\"sex\", StringType(), True),\n",
    " #   StructField(\"capital_gain\", IntegerType(), True),\n",
    " #   StructField(\"capital_loss\", IntegerType(), True),\n",
    " #   StructField(\"hours_per_week\", IntegerType(), True),\n",
    " #   StructField(\"native_country\", StringType(), True),\n",
    " #   StructField(\"income\", StringType(), True)\n",
    "#])\n",
    "\n",
    "#df = spark.read.csv(\n",
    " #   \"adult test.csv\",\n",
    "  #  header=True,\n",
    " #   #schema=schema,\n",
    "  #  sep=\",\",\n",
    "  #  quote=\"\\\"\",\n",
    "  #  escape=\"\\\"\"\n",
    "#)\n",
    "#pandas_df = df.toPandas()\n",
    "#pandas_df"
   ]
  },
  {
   "cell_type": "code",
   "execution_count": 4,
   "id": "89327f8e-cbae-454b-abf9-e0235008b75c",
   "metadata": {},
   "outputs": [
    {
     "name": "stdout",
     "output_type": "stream",
     "text": [
      "+---+-----------------+------+----------+-------------+-------------------+------------------+--------------+------+-------+------------+------------+--------------+--------------+------+\n",
      "|Age|workclass        |fnlwgt|education |education-num|marital-status     |occupation        |relationship  |race  |sex    |capital-gain|capital-loss|hours-per-week|native-country|label |\n",
      "+---+-----------------+------+----------+-------------+-------------------+------------------+--------------+------+-------+------------+------------+--------------+--------------+------+\n",
      "|39 | State-gov       |77516 | Bachelors|13           | Never-married     | Adm-clerical     | Not-in-family| White| Male  |2174        |0           |40            | United-States| <=50K|\n",
      "|50 | Self-emp-not-inc|83311 | Bachelors|13           | Married-civ-spouse| Exec-managerial  | Husband      | White| Male  |0           |0           |13            | United-States| <=50K|\n",
      "|38 | Private         |215646| HS-grad  |9            | Divorced          | Handlers-cleaners| Not-in-family| White| Male  |0           |0           |40            | United-States| <=50K|\n",
      "|53 | Private         |234721| 11th     |7            | Married-civ-spouse| Handlers-cleaners| Husband      | Black| Male  |0           |0           |40            | United-States| <=50K|\n",
      "|28 | Private         |338409| Bachelors|13           | Married-civ-spouse| Prof-specialty   | Wife         | Black| Female|0           |0           |40            | Cuba         | <=50K|\n",
      "+---+-----------------+------+----------+-------------+-------------------+------------------+--------------+------+-------+------------+------------+--------------+--------------+------+\n",
      "only showing top 5 rows\n",
      "\n",
      "root\n",
      " |-- Age: integer (nullable = true)\n",
      " |-- workclass: string (nullable = true)\n",
      " |-- fnlwgt: integer (nullable = true)\n",
      " |-- education: string (nullable = true)\n",
      " |-- education-num: integer (nullable = true)\n",
      " |-- marital-status: string (nullable = true)\n",
      " |-- occupation: string (nullable = true)\n",
      " |-- relationship : string (nullable = true)\n",
      " |-- race: string (nullable = true)\n",
      " |-- sex: string (nullable = true)\n",
      " |-- capital-gain: integer (nullable = true)\n",
      " |-- capital-loss: integer (nullable = true)\n",
      " |-- hours-per-week: integer (nullable = true)\n",
      " |-- native-country: string (nullable = true)\n",
      " |-- label: string (nullable = true)\n",
      "\n"
     ]
    }
   ],
   "source": [
    "df2 = spark.read.csv(\n",
    "    \"adult train.csv\",\n",
    "    header=True,\n",
    "    inferSchema=True,\n",
    "    sep=\",\",\n",
    "    quote=\"\\\"\",\n",
    "    escape=\"\\\"\"\n",
    ")\n",
    "df2.show(5, truncate=False)\n",
    "df2.printSchema()"
   ]
  },
  {
   "cell_type": "code",
   "execution_count": null,
   "id": "ab20f258-39f8-46e1-bad5-f01141ea47c5",
   "metadata": {},
   "outputs": [],
   "source": []
  }
 ],
 "metadata": {
  "kernelspec": {
   "display_name": "pyspark_env",
   "language": "python",
   "name": "pyspark_env"
  },
  "language_info": {
   "codemirror_mode": {
    "name": "ipython",
    "version": 3
   },
   "file_extension": ".py",
   "mimetype": "text/x-python",
   "name": "python",
   "nbconvert_exporter": "python",
   "pygments_lexer": "ipython3",
   "version": "3.12.7"
  }
 },
 "nbformat": 4,
 "nbformat_minor": 5
}
