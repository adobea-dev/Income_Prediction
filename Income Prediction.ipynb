{
 "cells": [
  {
   "cell_type": "markdown",
   "id": "b21cb8b8-2d3e-4144-81c6-a02aacf51ede",
   "metadata": {},
   "source": [
    "Importing the libraries and Creating SparkSession"
   ]
  },
  {
   "cell_type": "code",
   "execution_count": 1,
   "id": "7eb5f737-d833-4cb5-8a1a-c224edb20193",
   "metadata": {},
   "outputs": [],
   "source": [
    "import pandas as pd\n",
    "from pyspark.sql.functions import col, sum\n",
    "import pyspark.sql.functions as F\n",
    "from pyspark.ml.feature import OneHotEncoder, StringIndexer\n",
    "from pyspark.ml import Pipeline\n",
    "from pyspark.ml.feature import VectorAssembler, StandardScaler\n",
    "from pyspark.ml.functions import vector_to_array\n",
    "from pyspark.sql import SparkSession\n",
    "spark = SparkSession.builder.appName(\"Income Prediction\").config(\"spark.memory.offHeap.enabled\", \"true\").config(\"spark.memory.offHeap.size\", \"10g\").getOrCreate()"
   ]
  },
  {
   "cell_type": "markdown",
   "id": "ac959623-f4bc-4dbc-aadd-1d2d41de8c4e",
   "metadata": {},
   "source": [
    "Reading my data and putting it into a dataframe"
   ]
  },
  {
   "cell_type": "code",
   "execution_count": 2,
   "id": "6486c786-7061-41c6-aece-e421994dd70f",
   "metadata": {},
   "outputs": [
    {
     "name": "stdout",
     "output_type": "stream",
     "text": [
      "+---+----------+------+-------------+-------------+-------------------+------------------+------------+------+-------+------------+-------------+--------------+--------------+-------+\n",
      "|Age|workclass |fnlwgt|education    |education-num|marital-status     |occupation        |relationship|race  |sex    |capital-gain|capital-loss |hours-per-week|native-country|label  |\n",
      "+---+----------+------+-------------+-------------+-------------------+------------------+------------+------+-------+------------+-------------+--------------+--------------+-------+\n",
      "|25 | Private  |226802| 11th        |7            | Never-married     | Machine-op-inspct| Own-child  | Black| Male  |0           |0            |40            | United-States| <=50K.|\n",
      "|38 | Private  |89814 | HS-grad     |9            | Married-civ-spouse| Farming-fishing  | Husband    | White| Male  |0           |0            |50            | United-States| <=50K.|\n",
      "|28 | Local-gov|336951| Assoc-acdm  |12           | Married-civ-spouse| Protective-serv  | Husband    | White| Male  |0           |0            |40            | United-States| >50K. |\n",
      "|44 | Private  |160323| Some-college|10           | Married-civ-spouse| Machine-op-inspct| Husband    | Black| Male  |7688        |0            |40            | United-States| >50K. |\n",
      "|18 | ?        |103497| Some-college|10           | Never-married     | ?                | Own-child  | White| Female|0           |0            |30            | United-States| <=50K.|\n",
      "+---+----------+------+-------------+-------------+-------------------+------------------+------------+------+-------+------------+-------------+--------------+--------------+-------+\n",
      "only showing top 5 rows\n",
      "\n",
      "root\n",
      " |-- Age: integer (nullable = true)\n",
      " |-- workclass: string (nullable = true)\n",
      " |-- fnlwgt: integer (nullable = true)\n",
      " |-- education: string (nullable = true)\n",
      " |-- education-num: integer (nullable = true)\n",
      " |-- marital-status: string (nullable = true)\n",
      " |-- occupation: string (nullable = true)\n",
      " |-- relationship: string (nullable = true)\n",
      " |-- race: string (nullable = true)\n",
      " |-- sex: string (nullable = true)\n",
      " |-- capital-gain: integer (nullable = true)\n",
      " |-- capital-loss : integer (nullable = true)\n",
      " |-- hours-per-week: integer (nullable = true)\n",
      " |-- native-country: string (nullable = true)\n",
      " |-- label: string (nullable = true)\n",
      "\n"
     ]
    }
   ],
   "source": [
    "df1 = spark.read.csv(\n",
    "    \"adult test.csv\",\n",
    "    header=True,\n",
    "    inferSchema=True,\n",
    "    sep=\",\",\n",
    "    quote=\"\\\"\",\n",
    "    escape=\"\\\"\"\n",
    ")\n",
    "df1.show(5, truncate=False)\n",
    "df1.printSchema()"
   ]
  },
  {
   "cell_type": "code",
   "execution_count": 3,
   "id": "5f458f58-641e-433e-ae1d-29625766f719",
   "metadata": {},
   "outputs": [],
   "source": [
    "#from pyspark.sql.types import StructType, StructField, IntegerType, StringType\n",
    "\n",
    "#schema = StructType([\n",
    " #   StructField(\"age\", IntegerType(), True),\n",
    " #   StructField(\"workclass\", StringType(), True),\n",
    " #   StructField(\"fnlwgt\", IntegerType(), True),\n",
    " #   StructField(\"education\", StringType(), True),\n",
    " #   StructField(\"education_num\", IntegerType(), True),\n",
    " #   StructField(\"marital_status\", StringType(), True),\n",
    " #   StructField(\"occupation\", StringType(), True),\n",
    " #   StructField(\"relationship\", StringType(), True),\n",
    " #   StructField(\"race\", StringType(), True),\n",
    " #   StructField(\"sex\", StringType(), True),\n",
    " #   StructField(\"capital_gain\", IntegerType(), True),\n",
    " #   StructField(\"capital_loss\", IntegerType(), True),\n",
    " #   StructField(\"hours_per_week\", IntegerType(), True),\n",
    " #   StructField(\"native_country\", StringType(), True),\n",
    " #   StructField(\"income\", StringType(), True)\n",
    "#])\n",
    "\n",
    "#df = spark.read.csv(\n",
    " #   \"adult test.csv\",\n",
    "  #  header=True,\n",
    " #   #schema=schema,\n",
    "  #  sep=\",\",\n",
    "  #  quote=\"\\\"\",\n",
    "  #  escape=\"\\\"\"\n",
    "#)\n",
    "#pandas_df = df.toPandas()\n",
    "#pandas_df"
   ]
  },
  {
   "cell_type": "code",
   "execution_count": 4,
   "id": "89327f8e-cbae-454b-abf9-e0235008b75c",
   "metadata": {},
   "outputs": [
    {
     "name": "stdout",
     "output_type": "stream",
     "text": [
      "+---+-----------------+------+----------+-------------+-------------------+------------------+--------------+------+-------+------------+------------+--------------+--------------+------+\n",
      "|Age|workclass        |fnlwgt|education |education-num|marital-status     |occupation        |relationship  |race  |sex    |capital-gain|capital-loss|hours-per-week|native-country|label |\n",
      "+---+-----------------+------+----------+-------------+-------------------+------------------+--------------+------+-------+------------+------------+--------------+--------------+------+\n",
      "|39 | State-gov       |77516 | Bachelors|13           | Never-married     | Adm-clerical     | Not-in-family| White| Male  |2174        |0           |40            | United-States| <=50K|\n",
      "|50 | Self-emp-not-inc|83311 | Bachelors|13           | Married-civ-spouse| Exec-managerial  | Husband      | White| Male  |0           |0           |13            | United-States| <=50K|\n",
      "|38 | Private         |215646| HS-grad  |9            | Divorced          | Handlers-cleaners| Not-in-family| White| Male  |0           |0           |40            | United-States| <=50K|\n",
      "|53 | Private         |234721| 11th     |7            | Married-civ-spouse| Handlers-cleaners| Husband      | Black| Male  |0           |0           |40            | United-States| <=50K|\n",
      "|28 | Private         |338409| Bachelors|13           | Married-civ-spouse| Prof-specialty   | Wife         | Black| Female|0           |0           |40            | Cuba         | <=50K|\n",
      "+---+-----------------+------+----------+-------------+-------------------+------------------+--------------+------+-------+------------+------------+--------------+--------------+------+\n",
      "only showing top 5 rows\n",
      "\n",
      "root\n",
      " |-- Age: integer (nullable = true)\n",
      " |-- workclass: string (nullable = true)\n",
      " |-- fnlwgt: integer (nullable = true)\n",
      " |-- education: string (nullable = true)\n",
      " |-- education-num: integer (nullable = true)\n",
      " |-- marital-status: string (nullable = true)\n",
      " |-- occupation: string (nullable = true)\n",
      " |-- relationship : string (nullable = true)\n",
      " |-- race: string (nullable = true)\n",
      " |-- sex: string (nullable = true)\n",
      " |-- capital-gain: integer (nullable = true)\n",
      " |-- capital-loss: integer (nullable = true)\n",
      " |-- hours-per-week: integer (nullable = true)\n",
      " |-- native-country: string (nullable = true)\n",
      " |-- label: string (nullable = true)\n",
      "\n"
     ]
    }
   ],
   "source": [
    "df2 = spark.read.csv(\n",
    "    \"adult train.csv\",\n",
    "    header=True,\n",
    "    inferSchema=True,\n",
    "    sep=\",\",\n",
    "    quote=\"\\\"\",\n",
    "    escape=\"\\\"\"\n",
    ")\n",
    "df2.show(5, truncate=False)\n",
    "df2.printSchema()"
   ]
  },
  {
   "cell_type": "markdown",
   "id": "82cbd944-c529-415f-9d96-967956735908",
   "metadata": {},
   "source": [
    "EDA"
   ]
  },
  {
   "cell_type": "code",
   "execution_count": 5,
   "id": "1a118185-804c-4dfe-bd7b-9ff1eadbd588",
   "metadata": {},
   "outputs": [
    {
     "name": "stdout",
     "output_type": "stream",
     "text": [
      "+-------+------------------+------------+------------------+-------------+-----------------+--------------+-----------------+------------+-------------------+-------+------------------+------------------+------------------+--------------+-------+\n",
      "|summary|               Age|   workclass|            fnlwgt|    education|    education-num|marital-status|       occupation|relationship|               race|    sex|      capital-gain|     capital-loss |    hours-per-week|native-country|  label|\n",
      "+-------+------------------+------------+------------------+-------------+-----------------+--------------+-----------------+------------+-------------------+-------+------------------+------------------+------------------+--------------+-------+\n",
      "|  count|             16281|       16281|             16281|        16281|            16281|         16281|            16281|       16281|              16281|  16281|             16281|             16281|             16281|         16281|  16281|\n",
      "|   mean| 38.76745900128985|        NULL| 189435.6777839199|         NULL|10.07290706959032|          NULL|             NULL|        NULL|               NULL|   NULL|1081.9051041090843| 87.89926908666544|40.392236349118605|          NULL|   NULL|\n",
      "| stddev|13.849186814264337|        NULL|105714.90767083282|         NULL|2.567545258667684|          NULL|             NULL|        NULL|               NULL|   NULL| 7583.935967887075|403.10528562931256|12.479332247112266|          NULL|   NULL|\n",
      "|    min|                17|           ?|             13492|         10th|                1|      Divorced|                ?|     Husband| Amer-Indian-Eskimo| Female|                 0|                 0|                 1|             ?| <=50K.|\n",
      "|    max|                90| Without-pay|           1490400| Some-college|               16|       Widowed| Transport-moving|        Wife|              White|   Male|             99999|              3770|                99|    Yugoslavia|  >50K.|\n",
      "+-------+------------------+------------+------------------+-------------+-----------------+--------------+-----------------+------------+-------------------+-------+------------------+------------------+------------------+--------------+-------+\n",
      "\n"
     ]
    }
   ],
   "source": [
    "df1.describe().show()"
   ]
  },
  {
   "cell_type": "code",
   "execution_count": 6,
   "id": "1d372088-a6ce-4e64-9ee0-99792507f443",
   "metadata": {},
   "outputs": [
    {
     "name": "stdout",
     "output_type": "stream",
     "text": [
      "+-------+------------------+------------+------------------+-------------+-----------------+--------------+-----------------+-------------+-------------------+-------+------------------+----------------+------------------+--------------+------+\n",
      "|summary|               Age|   workclass|            fnlwgt|    education|    education-num|marital-status|       occupation|relationship |               race|    sex|      capital-gain|    capital-loss|    hours-per-week|native-country| label|\n",
      "+-------+------------------+------------+------------------+-------------+-----------------+--------------+-----------------+-------------+-------------------+-------+------------------+----------------+------------------+--------------+------+\n",
      "|  count|             32561|       32561|             32561|        32561|            32561|         32561|            32561|        32561|              32561|  32561|             32561|           32561|             32561|         32561| 32561|\n",
      "|   mean| 38.58164675532078|        NULL|189778.36651208502|         NULL| 10.0806793403151|          NULL|             NULL|         NULL|               NULL|   NULL|1077.6488437087312| 87.303829734959|40.437455852092995|          NULL|  NULL|\n",
      "| stddev|13.640432553581356|        NULL|105549.97769702227|         NULL|2.572720332067397|          NULL|             NULL|         NULL|               NULL|   NULL| 7385.292084840354|402.960218649002|12.347428681731838|          NULL|  NULL|\n",
      "|    min|                17|           ?|             12285|         10th|                1|      Divorced|                ?|      Husband| Amer-Indian-Eskimo| Female|                 0|               0|                 1|             ?| <=50K|\n",
      "|    max|                90| Without-pay|           1484705| Some-college|               16|       Widowed| Transport-moving|         Wife|              White|   Male|             99999|            4356|                99|    Yugoslavia|  >50K|\n",
      "+-------+------------------+------------+------------------+-------------+-----------------+--------------+-----------------+-------------+-------------------+-------+------------------+----------------+------------------+--------------+------+\n",
      "\n"
     ]
    }
   ],
   "source": [
    "df2.describe().show()"
   ]
  },
  {
   "cell_type": "markdown",
   "id": "472ef514-147e-41b9-aba8-7427377c983c",
   "metadata": {},
   "source": [
    "Data Preprocessing"
   ]
  },
  {
   "cell_type": "markdown",
   "id": "8faaede6-9f3a-4f0a-9539-db3421d1f79e",
   "metadata": {},
   "source": [
    "Checking for missing values in dataframe 1 (adult test) & dataframe 2 (adult train)"
   ]
  },
  {
   "cell_type": "code",
   "execution_count": 7,
   "id": "bdb2233b-0986-4191-a3c0-a04891fa91c2",
   "metadata": {},
   "outputs": [
    {
     "name": "stdout",
     "output_type": "stream",
     "text": [
      "+---+---------+------+---------+-------------+--------------+----------+------------+----+---+------------+-------------+--------------+--------------+-----+\n",
      "|Age|workclass|fnlwgt|education|education-num|marital-status|occupation|relationship|race|sex|capital-gain|capital-loss |hours-per-week|native-country|label|\n",
      "+---+---------+------+---------+-------------+--------------+----------+------------+----+---+------------+-------------+--------------+--------------+-----+\n",
      "|  0|        0|     0|        0|            0|             0|         0|           0|   0|  0|           0|            0|             0|             0|    0|\n",
      "+---+---------+------+---------+-------------+--------------+----------+------------+----+---+------------+-------------+--------------+--------------+-----+\n",
      "\n"
     ]
    }
   ],
   "source": [
    "df1.select([(F.sum(F.col(c).isNull().cast(\"int\")).alias(c)) for c in df1.columns]).show()"
   ]
  },
  {
   "cell_type": "markdown",
   "id": "e07301f3-d226-4bc5-b393-5f906f0a94b1",
   "metadata": {},
   "source": [
    "We can see from here that there are no missing values in df1 "
   ]
  },
  {
   "cell_type": "code",
   "execution_count": 8,
   "id": "2ea232ee-92ae-49ab-9348-57439d19d46d",
   "metadata": {},
   "outputs": [
    {
     "name": "stdout",
     "output_type": "stream",
     "text": [
      "+---+---------+------+---------+-------------+--------------+----------+-------------+----+---+------------+------------+--------------+--------------+-----+\n",
      "|Age|workclass|fnlwgt|education|education-num|marital-status|occupation|relationship |race|sex|capital-gain|capital-loss|hours-per-week|native-country|label|\n",
      "+---+---------+------+---------+-------------+--------------+----------+-------------+----+---+------------+------------+--------------+--------------+-----+\n",
      "|  0|        0|     0|        0|            0|             0|         0|            0|   0|  0|           0|           0|             0|             0|    0|\n",
      "+---+---------+------+---------+-------------+--------------+----------+-------------+----+---+------------+------------+--------------+--------------+-----+\n",
      "\n"
     ]
    }
   ],
   "source": [
    "df2.select([(F.sum(F.col(c).isNull().cast(\"int\")).alias(c)) for c in df2.columns]).show()"
   ]
  },
  {
   "cell_type": "markdown",
   "id": "1e7a9fa9-3743-437e-b575-1e9348a9a163",
   "metadata": {},
   "source": [
    "We can see from here that there are no missing values in df2 as well"
   ]
  },
  {
   "cell_type": "markdown",
   "id": "cf35edea-7cef-48df-837a-cde6c3da7d2a",
   "metadata": {},
   "source": [
    "Encoding categorical variables in both data frames"
   ]
  },
  {
   "cell_type": "code",
   "execution_count": 9,
   "id": "3e74a63c-57b4-4781-a743-3c590378c29c",
   "metadata": {},
   "outputs": [
    {
     "name": "stdout",
     "output_type": "stream",
     "text": [
      "+---+----------+------+-------------+-------------+-------------------+------------------+------------+------+-------+------------+-------------+--------------+--------------+-------+---------------+---------------+--------------------+----------------+------------------+----------+---------+--------------------+-----------+-----------------+-----------------+----------------------+------------------+--------------------+-------------+-------------+----------------------+-------------+\n",
      "|Age|workclass |fnlwgt|education    |education-num|marital-status     |occupation        |relationship|race  |sex    |capital-gain|capital-loss |hours-per-week|native-country|label  |workclass_index|education_index|marital-status_index|occupation_index|relationship_index|race_index|sex_index|native-country_index|label_index|workclass_encoded|education_encoded|marital-status_encoded|occupation_encoded|relationship_encoded|race_encoded |sex_encoded  |native-country_encoded|label_encoded|\n",
      "+---+----------+------+-------------+-------------+-------------------+------------------+------------+------+-------+------------+-------------+--------------+--------------+-------+---------------+---------------+--------------------+----------------+------------------+----------+---------+--------------------+-----------+-----------------+-----------------+----------------------+------------------+--------------------+-------------+-------------+----------------------+-------------+\n",
      "|25 | Private  |226802| 11th        |7            | Never-married     | Machine-op-inspct| Own-child  | Black| Male  |0           |0            |40            | United-States| <=50K.|0.0            |5.0            |1.0                 |6.0             |2.0               |1.0       |0.0      |0.0                 |0.0        |(8,[0],[1.0])    |(15,[5],[1.0])   |(6,[1],[1.0])         |(14,[6],[1.0])    |(5,[2],[1.0])       |(4,[1],[1.0])|(1,[0],[1.0])|(40,[0],[1.0])        |(1,[0],[1.0])|\n",
      "|38 | Private  |89814 | HS-grad     |9            | Married-civ-spouse| Farming-fishing  | Husband    | White| Male  |0           |0            |50            | United-States| <=50K.|0.0            |0.0            |0.0                 |11.0            |0.0               |0.0       |0.0      |0.0                 |0.0        |(8,[0],[1.0])    |(15,[0],[1.0])   |(6,[0],[1.0])         |(14,[11],[1.0])   |(5,[0],[1.0])       |(4,[0],[1.0])|(1,[0],[1.0])|(40,[0],[1.0])        |(1,[0],[1.0])|\n",
      "|28 | Local-gov|336951| Assoc-acdm  |12           | Married-civ-spouse| Protective-serv  | Husband    | White| Male  |0           |0            |40            | United-States| >50K. |2.0            |6.0            |0.0                 |12.0            |0.0               |0.0       |0.0      |0.0                 |1.0        |(8,[2],[1.0])    |(15,[6],[1.0])   |(6,[0],[1.0])         |(14,[12],[1.0])   |(5,[0],[1.0])       |(4,[0],[1.0])|(1,[0],[1.0])|(40,[0],[1.0])        |(1,[],[])    |\n",
      "|44 | Private  |160323| Some-college|10           | Married-civ-spouse| Machine-op-inspct| Husband    | Black| Male  |7688        |0            |40            | United-States| >50K. |0.0            |1.0            |0.0                 |6.0             |0.0               |1.0       |0.0      |0.0                 |1.0        |(8,[0],[1.0])    |(15,[1],[1.0])   |(6,[0],[1.0])         |(14,[6],[1.0])    |(5,[0],[1.0])       |(4,[1],[1.0])|(1,[0],[1.0])|(40,[0],[1.0])        |(1,[],[])    |\n",
      "|18 | ?        |103497| Some-college|10           | Never-married     | ?                | Own-child  | White| Female|0           |0            |30            | United-States| <=50K.|3.0            |1.0            |1.0                 |7.0             |2.0               |0.0       |1.0      |0.0                 |0.0        |(8,[3],[1.0])    |(15,[1],[1.0])   |(6,[1],[1.0])         |(14,[7],[1.0])    |(5,[2],[1.0])       |(4,[0],[1.0])|(1,[],[])    |(40,[0],[1.0])        |(1,[0],[1.0])|\n",
      "+---+----------+------+-------------+-------------+-------------------+------------------+------------+------+-------+------------+-------------+--------------+--------------+-------+---------------+---------------+--------------------+----------------+------------------+----------+---------+--------------------+-----------+-----------------+-----------------+----------------------+------------------+--------------------+-------------+-------------+----------------------+-------------+\n",
      "only showing top 5 rows\n",
      "\n"
     ]
    }
   ],
   "source": [
    "data = df1\n",
    "\n",
    "#list of categorical columns to encode\n",
    "categorical_columns = [\"workclass\", \"education\", \"marital-status\", \"occupation\", \"relationship\", \"race\", \"sex\", \"native-country\", \"label\"]\n",
    "\n",
    "#Creating StringIndexers for each categorical column\n",
    "indexers  = [\n",
    "    StringIndexer(inputCol = col, outputCol = f\"{col}_index\")\n",
    "    for col in categorical_columns\n",
    "]\n",
    "\n",
    "#Creating OneHotEncoders for each indexed columns\n",
    "encoders = [\n",
    "    OneHotEncoder(inputCol = f\"{col}_index\", outputCol = f\"{col}_encoded\")\n",
    "    for col in categorical_columns\n",
    "]\n",
    "\n",
    "#Combining indexers and encoders to a pipeline\n",
    "pipeline = Pipeline(stages = indexers + encoders)\n",
    "\n",
    "#Fiting the pipeline to the data and transform it \n",
    "pipeline_model = pipeline.fit(data)\n",
    "transformed_data = pipeline_model.transform(data)\n",
    "\n",
    "#Showing the transformed dataframe\n",
    "transformed_data.show(5, 0)"
   ]
  },
  {
   "cell_type": "code",
   "execution_count": 10,
   "id": "3885933c-898d-4324-a0c5-da4058d11917",
   "metadata": {},
   "outputs": [
    {
     "name": "stdout",
     "output_type": "stream",
     "text": [
      "+---+----------+------+-------------+-------------+-------------------+------------------+------------+------+-------+------------+-------------+--------------+--------------+-------+---------------+---------------+--------------------+----------------+------------------+----------+---------+--------------------+-----------+-----------------+-----------------+----------------------+------------------+--------------------+-------------+-------------+----------------------+-------------+\n",
      "|Age|workclass |fnlwgt|education    |education-num|marital-status     |occupation        |relationship|race  |sex    |capital-gain|capital-loss |hours-per-week|native-country|label  |workclass_index|education_index|marital-status_index|occupation_index|relationship_index|race_index|sex_index|native-country_index|label_index|workclass_encoded|education_encoded|marital-status_encoded|occupation_encoded|relationship_encoded|race_encoded |sex_encoded  |native-country_encoded|label_encoded|\n",
      "+---+----------+------+-------------+-------------+-------------------+------------------+------------+------+-------+------------+-------------+--------------+--------------+-------+---------------+---------------+--------------------+----------------+------------------+----------+---------+--------------------+-----------+-----------------+-----------------+----------------------+------------------+--------------------+-------------+-------------+----------------------+-------------+\n",
      "|25 | Private  |226802| 11th        |7            | Never-married     | Machine-op-inspct| Own-child  | Black| Male  |0           |0            |40            | United-States| <=50K.|0.0            |5.0            |1.0                 |6.0             |2.0               |1.0       |0.0      |0.0                 |0.0        |(8,[0],[1.0])    |(15,[5],[1.0])   |(6,[1],[1.0])         |(14,[6],[1.0])    |(5,[2],[1.0])       |(4,[1],[1.0])|(1,[0],[1.0])|(40,[0],[1.0])        |(1,[0],[1.0])|\n",
      "|38 | Private  |89814 | HS-grad     |9            | Married-civ-spouse| Farming-fishing  | Husband    | White| Male  |0           |0            |50            | United-States| <=50K.|0.0            |0.0            |0.0                 |11.0            |0.0               |0.0       |0.0      |0.0                 |0.0        |(8,[0],[1.0])    |(15,[0],[1.0])   |(6,[0],[1.0])         |(14,[11],[1.0])   |(5,[0],[1.0])       |(4,[0],[1.0])|(1,[0],[1.0])|(40,[0],[1.0])        |(1,[0],[1.0])|\n",
      "|28 | Local-gov|336951| Assoc-acdm  |12           | Married-civ-spouse| Protective-serv  | Husband    | White| Male  |0           |0            |40            | United-States| >50K. |2.0            |6.0            |0.0                 |12.0            |0.0               |0.0       |0.0      |0.0                 |1.0        |(8,[2],[1.0])    |(15,[6],[1.0])   |(6,[0],[1.0])         |(14,[12],[1.0])   |(5,[0],[1.0])       |(4,[0],[1.0])|(1,[0],[1.0])|(40,[0],[1.0])        |(1,[],[])    |\n",
      "|44 | Private  |160323| Some-college|10           | Married-civ-spouse| Machine-op-inspct| Husband    | Black| Male  |7688        |0            |40            | United-States| >50K. |0.0            |1.0            |0.0                 |6.0             |0.0               |1.0       |0.0      |0.0                 |1.0        |(8,[0],[1.0])    |(15,[1],[1.0])   |(6,[0],[1.0])         |(14,[6],[1.0])    |(5,[0],[1.0])       |(4,[1],[1.0])|(1,[0],[1.0])|(40,[0],[1.0])        |(1,[],[])    |\n",
      "|18 | ?        |103497| Some-college|10           | Never-married     | ?                | Own-child  | White| Female|0           |0            |30            | United-States| <=50K.|3.0            |1.0            |1.0                 |7.0             |2.0               |0.0       |1.0      |0.0                 |0.0        |(8,[3],[1.0])    |(15,[1],[1.0])   |(6,[1],[1.0])         |(14,[7],[1.0])    |(5,[2],[1.0])       |(4,[0],[1.0])|(1,[],[])    |(40,[0],[1.0])        |(1,[0],[1.0])|\n",
      "+---+----------+------+-------------+-------------+-------------------+------------------+------------+------+-------+------------+-------------+--------------+--------------+-------+---------------+---------------+--------------------+----------------+------------------+----------+---------+--------------------+-----------+-----------------+-----------------+----------------------+------------------+--------------------+-------------+-------------+----------------------+-------------+\n",
      "only showing top 5 rows\n",
      "\n"
     ]
    }
   ],
   "source": [
    "data1 = df2\n",
    "\n",
    "#list of categorical columns to encode\n",
    "categorical_columns = [\"workclass\", \"education\", \"marital-status\", \"occupation\", \"relationship \", \"race\", \"sex\", \"native-country\", \"label\"]\n",
    "\n",
    "#Creating StringIndexers for each categorical column\n",
    "indexers  = [\n",
    "    StringIndexer(inputCol = col, outputCol = f\"{col}_index\")\n",
    "    for col in categorical_columns\n",
    "]\n",
    "\n",
    "#Creating OneHotEncoders for each indexed columns\n",
    "encoders = [\n",
    "    OneHotEncoder(inputCol = f\"{col}_index\", outputCol = f\"{col}_encoded\")\n",
    "    for col in categorical_columns\n",
    "]\n",
    "\n",
    "#Combining indexers and encoders to a pipeline\n",
    "pipeline = Pipeline(stages = indexers + encoders)\n",
    "\n",
    "#Fiting the pipeline to the data and transform it \n",
    "pipeline_model = pipeline.fit(data1)\n",
    "#transformed_data = pipeline_model.transform(data1)\n",
    "\n",
    "#Showing the transformed dataframe\n",
    "transformed_data.show(5, 0)"
   ]
  },
  {
   "cell_type": "markdown",
   "id": "4aaa70bf-7a30-4ba3-aa15-bd63cfa21bb2",
   "metadata": {},
   "source": [
    "Scaling our numerical features in both dataframes to a common scale "
   ]
  },
  {
   "cell_type": "code",
   "execution_count": 11,
   "id": "842d1dd1-0d12-46ab-b664-0fab41b9964d",
   "metadata": {},
   "outputs": [],
   "source": [
    "#list of numerical columns to scale\n",
    "numerical_columns = [\"Age\", \"fnlwgt\", \"education-num\", \"capital-gain\",\"hours-per-week\"]\n",
    "\n",
    "#Assembling numerical columns into a feature vector\n",
    "assembler = VectorAssembler(inputCols = numerical_columns, outputCol = \"numerical_features\")\n",
    "df_vector = assembler.transform(data)\n",
    "\n",
    "#Initialize the StandardScaler\n",
    "scaler = StandardScaler(inputCol = \"numerical_features\", outputCol = \"scaled_features\", withMean = True, withStd  = True)\n",
    "\n",
    "#Fit the scaler to the first dataframe and transform \n",
    "scaler_model = scaler.fit(df_vector)\n",
    "df_scaled = scaler_model.transform(df_vector)\n",
    "\n",
    "#Converting vector to an array column\n",
    "df_final = df_scaled.withColumn(\"scaled_features_array\", vector_to_array(\"scaled_features\"))\n",
    "for i, col_name in enumerate(numerical_columns):\n",
    "    df_final = df_final.withColumn(f\"scaled_{col_name}\", df_final[\"scaled_features_array\"][i])\n",
    "\n",
    "#Drop intermediate columns\n",
    "df_final = df_final.drop(\"numerical features\", \"scaled_features\", \"scaled_features_array\")"
   ]
  },
  {
   "cell_type": "code",
   "execution_count": 12,
   "id": "8e371d9d-43fa-4d55-b4c2-516c81ef490a",
   "metadata": {},
   "outputs": [
    {
     "name": "stdout",
     "output_type": "stream",
     "text": [
      "+---+----------+------+-------------+-------------+-------------------+------------------+------------+------+-------+------------+-------------+--------------+--------------+-------+--------------------------------+--------------------+--------------------+---------------------+--------------------+---------------------+\n",
      "|Age|workclass |fnlwgt|education    |education-num|marital-status     |occupation        |relationship|race  |sex    |capital-gain|capital-loss |hours-per-week|native-country|label  |numerical_features              |scaled_Age          |scaled_fnlwgt       |scaled_education-num |scaled_capital-gain |scaled_hours-per-week|\n",
      "+---+----------+------+-------------+-------------+-------------------+------------------+------------+------+-------+------------+-------------+--------------+--------------+-------+--------------------------------+--------------------+--------------------+---------------------+--------------------+---------------------+\n",
      "|25 | Private  |226802| 11th        |7            | Never-married     | Machine-op-inspct| Own-child  | Black| Male  |0           |0            |40            | United-States| <=50K.|[25.0,226802.0,7.0,0.0,40.0]    |-0.9940987283895891 |0.3534631305967589  |-1.1968268365344708  |-0.14265746819200895|-0.03143087637635291 |\n",
      "|38 | Private  |89814 | HS-grad     |9            | Married-civ-spouse| Farming-fishing  | Husband    | White| Male  |0           |0            |50            | United-States| <=50K.|[38.0,89814.0,9.0,0.0,50.0]     |-0.05541545590962623|-0.9423616780153149 |-0.4178726999916886  |-0.14265746819200895|0.7698940504693134   |\n",
      "|28 | Local-gov|336951| Assoc-acdm  |12           | Married-civ-spouse| Protective-serv  | Husband    | White| Male  |0           |0            |40            | United-States| >50K. |[28.0,336951.0,12.0,0.0,40.0]   |-0.7774795116634438 |1.3954070004525954  |0.7505585048224847   |-0.14265746819200895|-0.03143087637635291 |\n",
      "|44 | Private  |160323| Some-college|10           | Married-civ-spouse| Machine-op-inspct| Husband    | Black| Male  |7688        |0            |40            | United-States| >50K. |[44.0,160323.0,10.0,7688.0,40.0]|0.3778229775426643  |-0.27538857503966224|-0.028395631720297507|0.871064170882155   |-0.03143087637635291 |\n",
      "|18 | ?        |103497| Some-college|10           | Never-married     | ?                | Own-child  | White| Female|0           |0            |30            | United-States| <=50K.|[18.0,103497.0,10.0,0.0,30.0]   |-1.4995435674172615 |-0.8129286557342464 |-0.028395631720297507|-0.14265746819200895|-0.8327558032220191  |\n",
      "+---+----------+------+-------------+-------------+-------------------+------------------+------------+------+-------+------------+-------------+--------------+--------------+-------+--------------------------------+--------------------+--------------------+---------------------+--------------------+---------------------+\n",
      "only showing top 5 rows\n",
      "\n"
     ]
    }
   ],
   "source": [
    "df_final1.show(5, 0)"
   ]
  },
  {
   "cell_type": "code",
   "execution_count": 15,
   "id": "60b8052c-f3fb-49dd-bc58-4a934dbf0992",
   "metadata": {},
   "outputs": [],
   "source": [
    "# List of numerical columns to scale\n",
    "numerical_columns = [\"Age\", \"fnlwgt\", \"education-num\", \"capital-gain\", \"hours-per-week\"]\n",
    "\n",
    "# Assembling numerical columns into a feature vector for data1\n",
    "assembler = VectorAssembler(inputCols=numerical_columns, outputCol=\"numerical_features\")\n",
    "df_vector1 = assembler.transform(data1)\n",
    "\n",
    "# Initialize the StandardScaler (reusing the same scaler as before)\n",
    "scaler = StandardScaler(inputCol=\"numerical_features\", outputCol=\"scaled_features\", withMean=True, withStd=True)\n",
    "\n",
    "# Fit the scaler to data1 and transform\n",
    "scaler_model1 = scaler.fit(df_vector1)\n",
    "df_scaled1 = scaler_model1.transform(df_vector1)\n",
    "\n",
    "# Converting vector to an array column for data1\n",
    "df_final1 = df_scaled1.withColumn(\"scaled_features_array\", vector_to_array(\"scaled_features\"))\n",
    "for i, col_name in enumerate(numerical_columns):\n",
    "    df_final1 = df_final1.withColumn(f\"scaled_{col_name}\", df_final1[\"scaled_features_array\"][i])\n",
    "\n",
    "# Drop intermediate columns for data1\n",
    "df_final1 = df_final1.drop(\"numerical_features\", \"scaled_features\", \"scaled_features_array\")"
   ]
  },
  {
   "cell_type": "code",
   "execution_count": 16,
   "id": "47f227b8-9ba7-4f7b-874b-dbfd06fb272a",
   "metadata": {},
   "outputs": [
    {
     "name": "stdout",
     "output_type": "stream",
     "text": [
      "+---+-----------------+------+----------+-------------+-------------------+------------------+--------------+------+-------+------------+------------+--------------+--------------+------+--------------------+-------------------+--------------------+--------------------+---------------------+\n",
      "|Age|workclass        |fnlwgt|education |education-num|marital-status     |occupation        |relationship  |race  |sex    |capital-gain|capital-loss|hours-per-week|native-country|label |scaled_Age          |scaled_fnlwgt      |scaled_education-num|scaled_capital-gain |scaled_hours-per-week|\n",
      "+---+-----------------+------+----------+-------------+-------------------+------------------+--------------+------+-------+------------+------------+--------------+--------------+------+--------------------+-------------------+--------------------+--------------------+---------------------+\n",
      "|39 | State-gov       |77516 | Bachelors|13           | Never-married     | Adm-clerical     | Not-in-family| White| Male  |2174        |0           |40            | United-States| <=50K|0.03067008637999638 |-1.0635944124434717|1.1347213388479223  |0.14845061558793698 |-0.035428902921321385|\n",
      "|50 | Self-emp-not-inc|83311 | Bachelors|13           | Married-civ-spouse| Exec-managerial  | Husband      | White| Male  |0           |0           |13            | United-States| <=50K|0.8370961257882483  |-1.0086915112165824|1.1347213388479223  |-0.14591824281680124|-2.2221189981592726  |\n",
      "|38 | Private         |215646| HS-grad  |9            | Divorced          | Handlers-cleaners| Not-in-family| White| Male  |0           |0           |40            | United-States| <=50K|-0.04264137174802653|0.24507474139090998|-0.4200531736175132 |-0.14591824281680124|-0.035428902921321385|\n",
      "|53 | Private         |234721| 11th     |7            | Married-civ-spouse| Handlers-cleaners| Husband      | Black| Male  |0           |0           |40            | United-States| <=50K|1.057030500172317   |0.4257948174742433 |-1.197440429850231  |-0.14591824281680124|-0.035428902921321385|\n",
      "|28 | Private         |338409| Bachelors|13           | Married-civ-spouse| Prof-specialty   | Wife         | Black| Female|0           |0           |40            | Cuba         | <=50K|-0.7757559530282556 |1.4081540965792847 |1.1347213388479223  |-0.14591824281680124|-0.035428902921321385|\n",
      "+---+-----------------+------+----------+-------------+-------------------+------------------+--------------+------+-------+------------+------------+--------------+--------------+------+--------------------+-------------------+--------------------+--------------------+---------------------+\n",
      "only showing top 5 rows\n",
      "\n"
     ]
    }
   ],
   "source": [
    "df_final1.show(5, 0)"
   ]
  },
  {
   "cell_type": "code",
   "execution_count": null,
   "id": "cd68791f-f3fc-4f40-8cb4-70da86068ba3",
   "metadata": {},
   "outputs": [],
   "source": []
  }
 ],
 "metadata": {
  "kernelspec": {
   "display_name": "pyspark_env",
   "language": "python",
   "name": "pyspark_env"
  },
  "language_info": {
   "codemirror_mode": {
    "name": "ipython",
    "version": 3
   },
   "file_extension": ".py",
   "mimetype": "text/x-python",
   "name": "python",
   "nbconvert_exporter": "python",
   "pygments_lexer": "ipython3",
   "version": "3.12.7"
  }
 },
 "nbformat": 4,
 "nbformat_minor": 5
}
