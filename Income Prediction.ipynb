{
 "cells": [
  {
   "cell_type": "markdown",
   "id": "b21cb8b8-2d3e-4144-81c6-a02aacf51ede",
   "metadata": {},
   "source": [
    "Creating SparkSession"
   ]
  },
  {
   "cell_type": "code",
   "execution_count": 1,
   "id": "7eb5f737-d833-4cb5-8a1a-c224edb20193",
   "metadata": {},
   "outputs": [],
   "source": [
    "from pyspark.sql import SparkSession\n",
    "spark = SparkSession.builder.appName(\"Income Prediction\").config(\"spark.memory.offHeap.enabled\", \"true\").config(\"spark.memory.offHeap.size\", \"10g\").getOrCreate()"
   ]
  },
  {
   "cell_type": "markdown",
   "id": "ac959623-f4bc-4dbc-aadd-1d2d41de8c4e",
   "metadata": {},
   "source": [
    "Reading my data and putting it into a dataframe"
   ]
  },
  {
   "cell_type": "code",
   "execution_count": 6,
   "id": "9419d59d-96dc-4b0a-a78e-537880171bb6",
   "metadata": {},
   "outputs": [],
   "source": [
    "from pyspark.sql.types import StructType, StructField, IntegerType, StringType"
   ]
  },
  {
   "cell_type": "code",
   "execution_count": 9,
   "id": "70f0afb4-5fb5-4331-9bdf-e92c1af84abf",
   "metadata": {},
   "outputs": [],
   "source": [
    "schema = StructType([\n",
    "    StructField(\"age\", IntegerType(), True),\n",
    "    StructField(\"workclass\", StringType(), True),\n",
    "    StructField(\"fnlwgt\", IntegerType(), True),\n",
    "    StructField(\"education\", StringType(), True),\n",
    "    StructField(\"education_num\", IntegerType(), True),\n",
    "    StructField(\"marital_status\", StringType(), True),\n",
    "    StructField(\"occupation\", StringType(), True),\n",
    "    StructField(\"relationship\", StringType(), True),\n",
    "    StructField(\"race\", StringType(), True),\n",
    "    StructField(\"sex\", StringType(), True),\n",
    "    StructField(\"capital_gain\", IntegerType(), True),\n",
    "    StructField(\"capital_loss\", IntegerType(), True),\n",
    "    StructField(\"hours_per_week\", IntegerType(), True),\n",
    "    StructField(\"native_country\", StringType(), True),\n",
    "    StructField(\"income\", StringType(), True)\n",
    "])\n",
    "\n",
    "df1 = spark.read.csv(\"adult test.csv\", header=True, schema=schema, sep=\",\", encoding=\"UTF-8\")"
   ]
  },
  {
   "cell_type": "code",
   "execution_count": 10,
   "id": "3897bcb5-c442-460e-b712-19a3b7dca9da",
   "metadata": {},
   "outputs": [
    {
     "name": "stdout",
     "output_type": "stream",
     "text": [
      "+----+---------+------+---------+-------------+--------------+----------+------------+----+----+------------+------------+--------------+--------------+------+\n",
      "|age |workclass|fnlwgt|education|education_num|marital_status|occupation|relationship|race|sex |capital_gain|capital_loss|hours_per_week|native_country|income|\n",
      "+----+---------+------+---------+-------------+--------------+----------+------------+----+----+------------+------------+--------------+--------------+------+\n",
      "|NULL|NULL     |NULL  |NULL     |NULL         |NULL          |NULL      |NULL        |NULL|NULL|NULL        |NULL        |NULL          |NULL          |NULL  |\n",
      "|NULL|NULL     |NULL  |NULL     |NULL         |NULL          |NULL      |NULL        |NULL|NULL|NULL        |NULL        |NULL          |NULL          |NULL  |\n",
      "|NULL|NULL     |NULL  |NULL     |NULL         |NULL          |NULL      |NULL        |NULL|NULL|NULL        |NULL        |NULL          |NULL          |NULL  |\n",
      "|NULL|NULL     |NULL  |NULL     |NULL         |NULL          |NULL      |NULL        |NULL|NULL|NULL        |NULL        |NULL          |NULL          |NULL  |\n",
      "|NULL|NULL     |NULL  |NULL     |NULL         |NULL          |NULL      |NULL        |NULL|NULL|NULL        |NULL        |NULL          |NULL          |NULL  |\n",
      "+----+---------+------+---------+-------------+--------------+----------+------------+----+----+------------+------------+--------------+--------------+------+\n",
      "only showing top 5 rows\n",
      "\n"
     ]
    }
   ],
   "source": [
    "df1.show(5, 0)"
   ]
  },
  {
   "cell_type": "code",
   "execution_count": 11,
   "id": "b2598437-fbc0-4a11-b935-ee864827ae30",
   "metadata": {},
   "outputs": [
    {
     "name": "stdout",
     "output_type": "stream",
     "text": [
      "+--------------------------------------------------------------------------------------------------------------------------------------------+\n",
      "|value                                                                                                                                       |\n",
      "+--------------------------------------------------------------------------------------------------------------------------------------------+\n",
      "||1x3 Cross validator                                                                                                                        |\n",
      "|\"25, Private, 226802, 11th, 7, Never-married, Machine-op-inspct, Own-child, Black, Male, 0, 0, 40, United-States, <=50K.\"                   |\n",
      "|\"38, Private, 89814, HS-grad, 9, Married-civ-spouse, Farming-fishing, Husband, White, Male, 0, 0, 50, United-States, <=50K.\"                |\n",
      "|\"28, Local-gov, 336951, Assoc-acdm, 12, Married-civ-spouse, Protective-serv, Husband, White, Male, 0, 0, 40, United-States, >50K.\"          |\n",
      "|\"44, Private, 160323, Some-college, 10, Married-civ-spouse, Machine-op-inspct, Husband, Black, Male, 7688, 0, 40, United-States, >50K.\"     |\n",
      "|\"18, ?, 103497, Some-college, 10, Never-married, ?, Own-child, White, Female, 0, 0, 30, United-States, <=50K.\"                              |\n",
      "|\"34, Private, 198693, 10th, 6, Never-married, Other-service, Not-in-family, White, Male, 0, 0, 30, United-States, <=50K.\"                   |\n",
      "|\"29, ?, 227026, HS-grad, 9, Never-married, ?, Unmarried, Black, Male, 0, 0, 40, United-States, <=50K.\"                                      |\n",
      "|\"63, Self-emp-not-inc, 104626, Prof-school, 15, Married-civ-spouse, Prof-specialty, Husband, White, Male, 3103, 0, 32, United-States, >50K.\"|\n",
      "|\"24, Private, 369667, Some-college, 10, Never-married, Other-service, Unmarried, White, Female, 0, 0, 40, United-States, <=50K.\"            |\n",
      "+--------------------------------------------------------------------------------------------------------------------------------------------+\n",
      "only showing top 10 rows\n",
      "\n"
     ]
    }
   ],
   "source": [
    "raw_data = spark.read.text(\"adult test.csv\")\n",
    "raw_data.show(10, truncate=False)"
   ]
  },
  {
   "cell_type": "code",
   "execution_count": 12,
   "id": "6486c786-7061-41c6-aece-e421994dd70f",
   "metadata": {},
   "outputs": [
    {
     "name": "stdout",
     "output_type": "stream",
     "text": [
      "+-------------------------------------------------------------------------------------------------------------------------------------+\n",
      "||1x3 Cross validator                                                                                                                 |\n",
      "+-------------------------------------------------------------------------------------------------------------------------------------+\n",
      "|25, Private, 226802, 11th, 7, Never-married, Machine-op-inspct, Own-child, Black, Male, 0, 0, 40, United-States, <=50K.              |\n",
      "|38, Private, 89814, HS-grad, 9, Married-civ-spouse, Farming-fishing, Husband, White, Male, 0, 0, 50, United-States, <=50K.           |\n",
      "|28, Local-gov, 336951, Assoc-acdm, 12, Married-civ-spouse, Protective-serv, Husband, White, Male, 0, 0, 40, United-States, >50K.     |\n",
      "|44, Private, 160323, Some-college, 10, Married-civ-spouse, Machine-op-inspct, Husband, Black, Male, 7688, 0, 40, United-States, >50K.|\n",
      "|18, ?, 103497, Some-college, 10, Never-married, ?, Own-child, White, Female, 0, 0, 30, United-States, <=50K.                         |\n",
      "+-------------------------------------------------------------------------------------------------------------------------------------+\n",
      "only showing top 5 rows\n",
      "\n",
      "root\n",
      " |-- |1x3 Cross validator: string (nullable = true)\n",
      "\n"
     ]
    }
   ],
   "source": [
    "df = spark.read.csv(\n",
    "    \"adult test.csv\",\n",
    "    header=True,\n",
    "    inferSchema=True,\n",
    "    sep=\",\",\n",
    "    quote=\"\\\"\",\n",
    "    escape=\"\\\"\"\n",
    ")\n",
    "df.show(5, truncate=False)\n",
    "df.printSchema()"
   ]
  },
  {
   "cell_type": "code",
   "execution_count": 16,
   "id": "5f458f58-641e-433e-ae1d-29625766f719",
   "metadata": {},
   "outputs": [
    {
     "data": {
      "text/html": [
       "<div>\n",
       "<style scoped>\n",
       "    .dataframe tbody tr th:only-of-type {\n",
       "        vertical-align: middle;\n",
       "    }\n",
       "\n",
       "    .dataframe tbody tr th {\n",
       "        vertical-align: top;\n",
       "    }\n",
       "\n",
       "    .dataframe thead th {\n",
       "        text-align: right;\n",
       "    }\n",
       "</style>\n",
       "<table border=\"1\" class=\"dataframe\">\n",
       "  <thead>\n",
       "    <tr style=\"text-align: right;\">\n",
       "      <th></th>\n",
       "      <th>|1x3 Cross validator</th>\n",
       "    </tr>\n",
       "  </thead>\n",
       "  <tbody>\n",
       "    <tr>\n",
       "      <th>0</th>\n",
       "      <td>25, Private, 226802, 11th, 7, Never-married, M...</td>\n",
       "    </tr>\n",
       "    <tr>\n",
       "      <th>1</th>\n",
       "      <td>38, Private, 89814, HS-grad, 9, Married-civ-sp...</td>\n",
       "    </tr>\n",
       "    <tr>\n",
       "      <th>2</th>\n",
       "      <td>28, Local-gov, 336951, Assoc-acdm, 12, Married...</td>\n",
       "    </tr>\n",
       "    <tr>\n",
       "      <th>3</th>\n",
       "      <td>44, Private, 160323, Some-college, 10, Married...</td>\n",
       "    </tr>\n",
       "    <tr>\n",
       "      <th>4</th>\n",
       "      <td>18, ?, 103497, Some-college, 10, Never-married...</td>\n",
       "    </tr>\n",
       "    <tr>\n",
       "      <th>...</th>\n",
       "      <td>...</td>\n",
       "    </tr>\n",
       "    <tr>\n",
       "      <th>16276</th>\n",
       "      <td>39, Private, 215419, Bachelors, 13, Divorced, ...</td>\n",
       "    </tr>\n",
       "    <tr>\n",
       "      <th>16277</th>\n",
       "      <td>64, ?, 321403, HS-grad, 9, Widowed, ?, Other-r...</td>\n",
       "    </tr>\n",
       "    <tr>\n",
       "      <th>16278</th>\n",
       "      <td>38, Private, 374983, Bachelors, 13, Married-ci...</td>\n",
       "    </tr>\n",
       "    <tr>\n",
       "      <th>16279</th>\n",
       "      <td>44, Private, 83891, Bachelors, 13, Divorced, A...</td>\n",
       "    </tr>\n",
       "    <tr>\n",
       "      <th>16280</th>\n",
       "      <td>35, Self-emp-inc, 182148, Bachelors, 13, Marri...</td>\n",
       "    </tr>\n",
       "  </tbody>\n",
       "</table>\n",
       "<p>16281 rows × 1 columns</p>\n",
       "</div>"
      ],
      "text/plain": [
       "                                    |1x3 Cross validator\n",
       "0      25, Private, 226802, 11th, 7, Never-married, M...\n",
       "1      38, Private, 89814, HS-grad, 9, Married-civ-sp...\n",
       "2      28, Local-gov, 336951, Assoc-acdm, 12, Married...\n",
       "3      44, Private, 160323, Some-college, 10, Married...\n",
       "4      18, ?, 103497, Some-college, 10, Never-married...\n",
       "...                                                  ...\n",
       "16276  39, Private, 215419, Bachelors, 13, Divorced, ...\n",
       "16277  64, ?, 321403, HS-grad, 9, Widowed, ?, Other-r...\n",
       "16278  38, Private, 374983, Bachelors, 13, Married-ci...\n",
       "16279  44, Private, 83891, Bachelors, 13, Divorced, A...\n",
       "16280  35, Self-emp-inc, 182148, Bachelors, 13, Marri...\n",
       "\n",
       "[16281 rows x 1 columns]"
      ]
     },
     "execution_count": 16,
     "metadata": {},
     "output_type": "execute_result"
    }
   ],
   "source": [
    "from pyspark.sql.types import StructType, StructField, IntegerType, StringType\n",
    "\n",
    "schema = StructType([\n",
    "    StructField(\"age\", IntegerType(), True),\n",
    "    StructField(\"workclass\", StringType(), True),\n",
    "    StructField(\"fnlwgt\", IntegerType(), True),\n",
    "    StructField(\"education\", StringType(), True),\n",
    "    StructField(\"education_num\", IntegerType(), True),\n",
    "    StructField(\"marital_status\", StringType(), True),\n",
    "    StructField(\"occupation\", StringType(), True),\n",
    "    StructField(\"relationship\", StringType(), True),\n",
    "    StructField(\"race\", StringType(), True),\n",
    "    StructField(\"sex\", StringType(), True),\n",
    "    StructField(\"capital_gain\", IntegerType(), True),\n",
    "    StructField(\"capital_loss\", IntegerType(), True),\n",
    "    StructField(\"hours_per_week\", IntegerType(), True),\n",
    "    StructField(\"native_country\", StringType(), True),\n",
    "    StructField(\"income\", StringType(), True)\n",
    "])\n",
    "\n",
    "df = spark.read.csv(\n",
    "    \"adult test.csv\",\n",
    "    header=True,\n",
    "    #schema=schema,\n",
    "    sep=\",\",\n",
    "    quote=\"\\\"\",\n",
    "    escape=\"\\\"\"\n",
    ")\n",
    "pandas_df = df.toPandas()\n",
    "pandas_df"
   ]
  },
  {
   "cell_type": "code",
   "execution_count": null,
   "id": "89327f8e-cbae-454b-abf9-e0235008b75c",
   "metadata": {},
   "outputs": [],
   "source": []
  }
 ],
 "metadata": {
  "kernelspec": {
   "display_name": "pyspark_env",
   "language": "python",
   "name": "pyspark_env"
  },
  "language_info": {
   "codemirror_mode": {
    "name": "ipython",
    "version": 3
   },
   "file_extension": ".py",
   "mimetype": "text/x-python",
   "name": "python",
   "nbconvert_exporter": "python",
   "pygments_lexer": "ipython3",
   "version": "3.12.7"
  }
 },
 "nbformat": 4,
 "nbformat_minor": 5
}
