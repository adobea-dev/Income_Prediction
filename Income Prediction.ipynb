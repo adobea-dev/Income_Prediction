{
 "cells": [
  {
   "cell_type": "markdown",
   "id": "b21cb8b8-2d3e-4144-81c6-a02aacf51ede",
   "metadata": {},
   "source": [
    "Creating SparkSession"
   ]
  },
  {
   "cell_type": "code",
   "execution_count": 1,
   "id": "7eb5f737-d833-4cb5-8a1a-c224edb20193",
   "metadata": {},
   "outputs": [],
   "source": [
    "import pandas as pd\n",
    "from pyspark.sql import SparkSession\n",
    "spark = SparkSession.builder.appName(\"Income Prediction\").config(\"spark.memory.offHeap.enabled\", \"true\").config(\"spark.memory.offHeap.size\", \"10g\").getOrCreate()"
   ]
  },
  {
   "cell_type": "markdown",
   "id": "ac959623-f4bc-4dbc-aadd-1d2d41de8c4e",
   "metadata": {},
   "source": [
    "Reading my data and putting it into a dataframe"
   ]
  },
  {
   "cell_type": "code",
   "execution_count": 2,
   "id": "6486c786-7061-41c6-aece-e421994dd70f",
   "metadata": {},
   "outputs": [
    {
     "name": "stdout",
     "output_type": "stream",
     "text": [
      "+---+----------+------+-------------+-------------+-------------------+------------------+------------+------+-------+------------+-------------+--------------+--------------+-------+\n",
      "|Age|workclass |fnlwgt|education    |education-num|marital-status     |occupation        |relationship|race  |sex    |capital-gain|capital-loss |hours-per-week|native-country|label  |\n",
      "+---+----------+------+-------------+-------------+-------------------+------------------+------------+------+-------+------------+-------------+--------------+--------------+-------+\n",
      "|25 | Private  |226802| 11th        |7            | Never-married     | Machine-op-inspct| Own-child  | Black| Male  |0           |0            |40            | United-States| <=50K.|\n",
      "|38 | Private  |89814 | HS-grad     |9            | Married-civ-spouse| Farming-fishing  | Husband    | White| Male  |0           |0            |50            | United-States| <=50K.|\n",
      "|28 | Local-gov|336951| Assoc-acdm  |12           | Married-civ-spouse| Protective-serv  | Husband    | White| Male  |0           |0            |40            | United-States| >50K. |\n",
      "|44 | Private  |160323| Some-college|10           | Married-civ-spouse| Machine-op-inspct| Husband    | Black| Male  |7688        |0            |40            | United-States| >50K. |\n",
      "|18 | ?        |103497| Some-college|10           | Never-married     | ?                | Own-child  | White| Female|0           |0            |30            | United-States| <=50K.|\n",
      "+---+----------+------+-------------+-------------+-------------------+------------------+------------+------+-------+------------+-------------+--------------+--------------+-------+\n",
      "only showing top 5 rows\n",
      "\n",
      "root\n",
      " |-- Age: integer (nullable = true)\n",
      " |-- workclass: string (nullable = true)\n",
      " |-- fnlwgt: integer (nullable = true)\n",
      " |-- education: string (nullable = true)\n",
      " |-- education-num: integer (nullable = true)\n",
      " |-- marital-status: string (nullable = true)\n",
      " |-- occupation: string (nullable = true)\n",
      " |-- relationship: string (nullable = true)\n",
      " |-- race: string (nullable = true)\n",
      " |-- sex: string (nullable = true)\n",
      " |-- capital-gain: integer (nullable = true)\n",
      " |-- capital-loss : integer (nullable = true)\n",
      " |-- hours-per-week: integer (nullable = true)\n",
      " |-- native-country: string (nullable = true)\n",
      " |-- label: string (nullable = true)\n",
      "\n"
     ]
    }
   ],
   "source": [
    "df1 = spark.read.csv(\n",
    "    \"adult test.csv\",\n",
    "    header=True,\n",
    "    inferSchema=True,\n",
    "    sep=\",\",\n",
    "    quote=\"\\\"\",\n",
    "    escape=\"\\\"\"\n",
    ")\n",
    "df1.show(5, truncate=False)\n",
    "df1.printSchema()"
   ]
  },
  {
   "cell_type": "code",
   "execution_count": 3,
   "id": "5f458f58-641e-433e-ae1d-29625766f719",
   "metadata": {},
   "outputs": [],
   "source": [
    "#from pyspark.sql.types import StructType, StructField, IntegerType, StringType\n",
    "\n",
    "#schema = StructType([\n",
    " #   StructField(\"age\", IntegerType(), True),\n",
    " #   StructField(\"workclass\", StringType(), True),\n",
    " #   StructField(\"fnlwgt\", IntegerType(), True),\n",
    " #   StructField(\"education\", StringType(), True),\n",
    " #   StructField(\"education_num\", IntegerType(), True),\n",
    " #   StructField(\"marital_status\", StringType(), True),\n",
    " #   StructField(\"occupation\", StringType(), True),\n",
    " #   StructField(\"relationship\", StringType(), True),\n",
    " #   StructField(\"race\", StringType(), True),\n",
    " #   StructField(\"sex\", StringType(), True),\n",
    " #   StructField(\"capital_gain\", IntegerType(), True),\n",
    " #   StructField(\"capital_loss\", IntegerType(), True),\n",
    " #   StructField(\"hours_per_week\", IntegerType(), True),\n",
    " #   StructField(\"native_country\", StringType(), True),\n",
    " #   StructField(\"income\", StringType(), True)\n",
    "#])\n",
    "\n",
    "#df = spark.read.csv(\n",
    " #   \"adult test.csv\",\n",
    "  #  header=True,\n",
    " #   #schema=schema,\n",
    "  #  sep=\",\",\n",
    "  #  quote=\"\\\"\",\n",
    "  #  escape=\"\\\"\"\n",
    "#)\n",
    "#pandas_df = df.toPandas()\n",
    "#pandas_df"
   ]
  },
  {
   "cell_type": "code",
   "execution_count": 4,
   "id": "89327f8e-cbae-454b-abf9-e0235008b75c",
   "metadata": {},
   "outputs": [
    {
     "name": "stdout",
     "output_type": "stream",
     "text": [
      "+---+-----------------+------+----------+-------------+-------------------+------------------+--------------+------+-------+------------+------------+--------------+--------------+------+\n",
      "|Age|workclass        |fnlwgt|education |education-num|marital-status     |occupation        |relationship  |race  |sex    |capital-gain|capital-loss|hours-per-week|native-country|label |\n",
      "+---+-----------------+------+----------+-------------+-------------------+------------------+--------------+------+-------+------------+------------+--------------+--------------+------+\n",
      "|39 | State-gov       |77516 | Bachelors|13           | Never-married     | Adm-clerical     | Not-in-family| White| Male  |2174        |0           |40            | United-States| <=50K|\n",
      "|50 | Self-emp-not-inc|83311 | Bachelors|13           | Married-civ-spouse| Exec-managerial  | Husband      | White| Male  |0           |0           |13            | United-States| <=50K|\n",
      "|38 | Private         |215646| HS-grad  |9            | Divorced          | Handlers-cleaners| Not-in-family| White| Male  |0           |0           |40            | United-States| <=50K|\n",
      "|53 | Private         |234721| 11th     |7            | Married-civ-spouse| Handlers-cleaners| Husband      | Black| Male  |0           |0           |40            | United-States| <=50K|\n",
      "|28 | Private         |338409| Bachelors|13           | Married-civ-spouse| Prof-specialty   | Wife         | Black| Female|0           |0           |40            | Cuba         | <=50K|\n",
      "+---+-----------------+------+----------+-------------+-------------------+------------------+--------------+------+-------+------------+------------+--------------+--------------+------+\n",
      "only showing top 5 rows\n",
      "\n",
      "root\n",
      " |-- Age: integer (nullable = true)\n",
      " |-- workclass: string (nullable = true)\n",
      " |-- fnlwgt: integer (nullable = true)\n",
      " |-- education: string (nullable = true)\n",
      " |-- education-num: integer (nullable = true)\n",
      " |-- marital-status: string (nullable = true)\n",
      " |-- occupation: string (nullable = true)\n",
      " |-- relationship : string (nullable = true)\n",
      " |-- race: string (nullable = true)\n",
      " |-- sex: string (nullable = true)\n",
      " |-- capital-gain: integer (nullable = true)\n",
      " |-- capital-loss: integer (nullable = true)\n",
      " |-- hours-per-week: integer (nullable = true)\n",
      " |-- native-country: string (nullable = true)\n",
      " |-- label: string (nullable = true)\n",
      "\n"
     ]
    }
   ],
   "source": [
    "df2 = spark.read.csv(\n",
    "    \"adult train.csv\",\n",
    "    header=True,\n",
    "    inferSchema=True,\n",
    "    sep=\",\",\n",
    "    quote=\"\\\"\",\n",
    "    escape=\"\\\"\"\n",
    ")\n",
    "df2.show(5, truncate=False)\n",
    "df2.printSchema()"
   ]
  },
  {
   "cell_type": "markdown",
   "id": "82cbd944-c529-415f-9d96-967956735908",
   "metadata": {},
   "source": [
    "EDA"
   ]
  },
  {
   "cell_type": "code",
   "execution_count": 5,
   "id": "1a118185-804c-4dfe-bd7b-9ff1eadbd588",
   "metadata": {},
   "outputs": [
    {
     "name": "stdout",
     "output_type": "stream",
     "text": [
      "+-------+------------------+------------+------------------+-------------+-----------------+--------------+-----------------+------------+-------------------+-------+------------------+------------------+------------------+--------------+-------+\n",
      "|summary|               Age|   workclass|            fnlwgt|    education|    education-num|marital-status|       occupation|relationship|               race|    sex|      capital-gain|     capital-loss |    hours-per-week|native-country|  label|\n",
      "+-------+------------------+------------+------------------+-------------+-----------------+--------------+-----------------+------------+-------------------+-------+------------------+------------------+------------------+--------------+-------+\n",
      "|  count|             16281|       16281|             16281|        16281|            16281|         16281|            16281|       16281|              16281|  16281|             16281|             16281|             16281|         16281|  16281|\n",
      "|   mean| 38.76745900128985|        NULL| 189435.6777839199|         NULL|10.07290706959032|          NULL|             NULL|        NULL|               NULL|   NULL|1081.9051041090843| 87.89926908666544|40.392236349118605|          NULL|   NULL|\n",
      "| stddev|13.849186814264337|        NULL|105714.90767083282|         NULL|2.567545258667684|          NULL|             NULL|        NULL|               NULL|   NULL| 7583.935967887075|403.10528562931256|12.479332247112266|          NULL|   NULL|\n",
      "|    min|                17|           ?|             13492|         10th|                1|      Divorced|                ?|     Husband| Amer-Indian-Eskimo| Female|                 0|                 0|                 1|             ?| <=50K.|\n",
      "|    max|                90| Without-pay|           1490400| Some-college|               16|       Widowed| Transport-moving|        Wife|              White|   Male|             99999|              3770|                99|    Yugoslavia|  >50K.|\n",
      "+-------+------------------+------------+------------------+-------------+-----------------+--------------+-----------------+------------+-------------------+-------+------------------+------------------+------------------+--------------+-------+\n",
      "\n"
     ]
    }
   ],
   "source": [
    "df1.describe().show()"
   ]
  },
  {
   "cell_type": "code",
   "execution_count": 6,
   "id": "1d372088-a6ce-4e64-9ee0-99792507f443",
   "metadata": {},
   "outputs": [
    {
     "name": "stdout",
     "output_type": "stream",
     "text": [
      "+-------+------------------+------------+------------------+-------------+-----------------+--------------+-----------------+-------------+-------------------+-------+------------------+----------------+------------------+--------------+------+\n",
      "|summary|               Age|   workclass|            fnlwgt|    education|    education-num|marital-status|       occupation|relationship |               race|    sex|      capital-gain|    capital-loss|    hours-per-week|native-country| label|\n",
      "+-------+------------------+------------+------------------+-------------+-----------------+--------------+-----------------+-------------+-------------------+-------+------------------+----------------+------------------+--------------+------+\n",
      "|  count|             32561|       32561|             32561|        32561|            32561|         32561|            32561|        32561|              32561|  32561|             32561|           32561|             32561|         32561| 32561|\n",
      "|   mean| 38.58164675532078|        NULL|189778.36651208502|         NULL| 10.0806793403151|          NULL|             NULL|         NULL|               NULL|   NULL|1077.6488437087312| 87.303829734959|40.437455852092995|          NULL|  NULL|\n",
      "| stddev|13.640432553581356|        NULL|105549.97769702227|         NULL|2.572720332067397|          NULL|             NULL|         NULL|               NULL|   NULL| 7385.292084840354|402.960218649002|12.347428681731838|          NULL|  NULL|\n",
      "|    min|                17|           ?|             12285|         10th|                1|      Divorced|                ?|      Husband| Amer-Indian-Eskimo| Female|                 0|               0|                 1|             ?| <=50K|\n",
      "|    max|                90| Without-pay|           1484705| Some-college|               16|       Widowed| Transport-moving|         Wife|              White|   Male|             99999|            4356|                99|    Yugoslavia|  >50K|\n",
      "+-------+------------------+------------+------------------+-------------+-----------------+--------------+-----------------+-------------+-------------------+-------+------------------+----------------+------------------+--------------+------+\n",
      "\n"
     ]
    }
   ],
   "source": [
    "df2.describe().show()"
   ]
  },
  {
   "cell_type": "markdown",
   "id": "472ef514-147e-41b9-aba8-7427377c983c",
   "metadata": {},
   "source": [
    "Data Preprocessing"
   ]
  },
  {
   "cell_type": "markdown",
   "id": "8faaede6-9f3a-4f0a-9539-db3421d1f79e",
   "metadata": {},
   "source": [
    "Checking for missing values in dataframe 1 (adult test) & dataframe 2 (adult train)"
   ]
  },
  {
   "cell_type": "code",
   "execution_count": 7,
   "id": "bdb2233b-0986-4191-a3c0-a04891fa91c2",
   "metadata": {},
   "outputs": [
    {
     "name": "stdout",
     "output_type": "stream",
     "text": [
      "+---+---------+------+---------+-------------+--------------+----------+------------+----+---+------------+-------------+--------------+--------------+-----+\n",
      "|Age|workclass|fnlwgt|education|education-num|marital-status|occupation|relationship|race|sex|capital-gain|capital-loss |hours-per-week|native-country|label|\n",
      "+---+---------+------+---------+-------------+--------------+----------+------------+----+---+------------+-------------+--------------+--------------+-----+\n",
      "|  0|        0|     0|        0|            0|             0|         0|           0|   0|  0|           0|            0|             0|             0|    0|\n",
      "+---+---------+------+---------+-------------+--------------+----------+------------+----+---+------------+-------------+--------------+--------------+-----+\n",
      "\n"
     ]
    }
   ],
   "source": [
    "from pyspark.sql.functions import col, sum\n",
    "import pyspark.sql.functions as F\n",
    "\n",
    "df1.select([(F.sum(F.col(c).isNull().cast(\"int\")).alias(c)) for c in df1.columns]).show()"
   ]
  },
  {
   "cell_type": "markdown",
   "id": "e07301f3-d226-4bc5-b393-5f906f0a94b1",
   "metadata": {},
   "source": [
    "We can see from here that there are no missing values in df1 "
   ]
  },
  {
   "cell_type": "code",
   "execution_count": 8,
   "id": "2ea232ee-92ae-49ab-9348-57439d19d46d",
   "metadata": {},
   "outputs": [
    {
     "name": "stdout",
     "output_type": "stream",
     "text": [
      "+---+---------+------+---------+-------------+--------------+----------+-------------+----+---+------------+------------+--------------+--------------+-----+\n",
      "|Age|workclass|fnlwgt|education|education-num|marital-status|occupation|relationship |race|sex|capital-gain|capital-loss|hours-per-week|native-country|label|\n",
      "+---+---------+------+---------+-------------+--------------+----------+-------------+----+---+------------+------------+--------------+--------------+-----+\n",
      "|  0|        0|     0|        0|            0|             0|         0|            0|   0|  0|           0|           0|             0|             0|    0|\n",
      "+---+---------+------+---------+-------------+--------------+----------+-------------+----+---+------------+------------+--------------+--------------+-----+\n",
      "\n"
     ]
    }
   ],
   "source": [
    "df2.select([(F.sum(F.col(c).isNull().cast(\"int\")).alias(c)) for c in df2.columns]).show()"
   ]
  },
  {
   "cell_type": "markdown",
   "id": "1e7a9fa9-3743-437e-b575-1e9348a9a163",
   "metadata": {},
   "source": [
    "We can see from here that there are no missing values in df2 as well"
   ]
  },
  {
   "cell_type": "markdown",
   "id": "cf35edea-7cef-48df-837a-cde6c3da7d2a",
   "metadata": {},
   "source": [
    "Encoding categorical variables in both data frames"
   ]
  },
  {
   "cell_type": "code",
   "execution_count": 9,
   "id": "a8762f8c-ffd8-431d-ae01-e9dcdda84afd",
   "metadata": {},
   "outputs": [],
   "source": [
    "from pyspark.ml.feature import OneHotEncoder, StringIndexer\n",
    "from pyspark.ml import Pipeline"
   ]
  },
  {
   "cell_type": "code",
   "execution_count": null,
   "id": "3e74a63c-57b4-4781-a743-3c590378c29c",
   "metadata": {},
   "outputs": [],
   "source": [
    "data = df1\n",
    "\n",
    "#list of categorical columns to encode\n",
    "categorical_columns = [\"workclass\", \"education\", \"marital-status\", \"occupation\", \"relationship\", \"race\", \"sex\", \"native-country\", \"label\"]\n",
    "\n",
    "#Creating StringIndexers for each categorical column\n",
    "indexers  = [\n",
    "    StringIndexer(inputCol = col, outputCol = f\"{col}_index\")\n",
    "    for col in categorical_columns\n",
    "]\n",
    "\n",
    "#Creating OneHotEncoders for each indexed columns\n",
    "encoders = [\n",
    "    OneHotEncoder(inputCol = f\"{col}_index\", outputCol = f\"{col}_encoded\")\n",
    "    for col in categorical_columns\n",
    "]\n",
    "\n",
    "#Combining indexers and encoders to a pipeline\n",
    "pipeline = Pipeline(stages = indexers + encoders)\n",
    "\n",
    "#Fiting the pipeline to the data and transform it \n",
    "pipeline_model = pipeline.fit(data)\n",
    "transformed_data = pipeline_model.transform(data)\n",
    "\n",
    "#Showing the transformed dataframe\n",
    "transformed_data.show()"
   ]
  },
  {
   "cell_type": "code",
   "execution_count": null,
   "id": "ca28b944-1355-47be-9e0c-8a80d9e2883e",
   "metadata": {},
   "outputs": [],
   "source": [
    "df2.astype()"
   ]
  },
  {
   "cell_type": "code",
   "execution_count": null,
   "id": "3885933c-898d-4324-a0c5-da4058d11917",
   "metadata": {},
   "outputs": [],
   "source": [
    "data1 = df2\n",
    "\n",
    "#list of categorical columns to encode\n",
    "categorical_columns = [\"workclass\", \"education\", \"marital-status\", \"occupation\", \"relationship\", \"race\", \"sex\", \"native-country\", \"label\"]\n",
    "\n",
    "#Creating StringIndexers for each categorical column\n",
    "indexers  = [\n",
    "    StringIndexer(inputCol = col, outputCol = f\"{col}_index\")\n",
    "    for col in categorical_columns\n",
    "]\n",
    "\n",
    "#Creating OneHotEncoders for each indexed columns\n",
    "encoders = [\n",
    "    OneHotEncoder(inputCol = f\"{col}_index\", outputCol = f\"{col}_encoded\")\n",
    "    for col in categorical_columns\n",
    "]\n",
    "\n",
    "#Combining indexers and encoders to a pipeline\n",
    "pipeline = Pipeline(stages = indexers + encoders)\n",
    "\n",
    "#Fiting the pipeline to the data and transform it \n",
    "pipeline_model = pipeline.fit(data1)\n",
    "transformed_data = pipeline_model.transform(data1)\n",
    "\n",
    "#Showing the transformed dataframe\n",
    "transformed_data.show()"
   ]
  },
  {
   "cell_type": "code",
   "execution_count": null,
   "id": "96d4e5ea-f16c-4390-babb-d28d650b557c",
   "metadata": {},
   "outputs": [],
   "source": []
  }
 ],
 "metadata": {
  "kernelspec": {
   "display_name": "pyspark_env",
   "language": "python",
   "name": "pyspark_env"
  },
  "language_info": {
   "codemirror_mode": {
    "name": "ipython",
    "version": 3
   },
   "file_extension": ".py",
   "mimetype": "text/x-python",
   "name": "python",
   "nbconvert_exporter": "python",
   "pygments_lexer": "ipython3",
   "version": "3.12.7"
  }
 },
 "nbformat": 4,
 "nbformat_minor": 5
}
